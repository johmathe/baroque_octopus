{
 "cells": [
  {
   "cell_type": "code",
   "execution_count": null,
   "metadata": {},
   "outputs": [
    {
     "name": "stdout",
     "output_type": "stream",
     "text": [
      "downloading file: gfs_4_20171001_0000_003.grb2\n",
      "downloading file: gfs_4_20171001_0000_006.grb2\n",
      "downloading file: gfs_4_20171001_0000_009.grb2\n",
      "downloading file: gfs_4_20171001_0000_012.grb2\n",
      "downloading file: gfs_4_20171001_0000_018.grb2\n",
      "downloading file: gfs_4_20171001_0000_015.grb2\n",
      "downloading file: gfs_4_20171002_0000_003.grb2\n",
      "downloading file: gfs_4_20171002_0000_006.grb2\n",
      "downloading file: gfs_4_20171002_0000_009.grb2\n",
      "downloading file: gfs_4_20171002_0000_012.grb2\n",
      "downloading file: gfs_4_20171002_0000_015.grb2\n",
      "downloading file: gfs_4_20171002_0000_018.grb2\n",
      "downloading file: gfs_4_20171003_0000_003.grb2\n",
      "downloading file: gfs_4_20171003_0000_006.grb2\n",
      "downloading file: gfs_4_20171003_0000_009.grb2\n",
      "downloading file: gfs_4_20171003_0000_012.grb2\n"
     ]
    }
   ],
   "source": [
    "# Don't forget to install joblib and others:\n",
    "# pip3 install joblib\n",
    "import pygrib\n",
    "import os\n",
    "import urllib.request\n",
    "from joblib import Parallel, delayed\n",
    "from datetime import timedelta, date\n",
    "\n",
    "def daterange(start_date, end_date):\n",
    "    for n in range(int ((end_date - start_date).days)):\n",
    "        yield start_date + timedelta(n)\n",
    "\n",
    "start_date = date(2017, 10, 1)\n",
    "end_date = date(2017, 10, 31)\n",
    "\n",
    "def download_file(url, local):\n",
    "    print('downloading file: %s' % url)\n",
    "    try:\n",
    "        urllib.request.urlretrieve(url)\n",
    "    except urllib.request.HTTPError as e:\n",
    "        if e.code == 404:\n",
    "            print('%s: %s' % (e, url))\n",
    "        else:\n",
    "            raise\n",
    "\n",
    "files_to_download = []\n",
    "for single_date in daterange(start_date, end_date):\n",
    "    for hour in range(3, 21, 3):\n",
    "        url = single_date.strftime('https://nomads.ncdc.noaa.gov/data/gfs4/%%Y%%m/%%Y%%m%%d/gfs_4_%%Y%%m%%d_0000_%03d.grb2' % hour)\n",
    "        local_file = single_date.strftime('gfs_4_%%Y%%m%%d_0000_%03d.grb2' % hour)\n",
    "        files_to_download.append((local_file, url))\n",
    "                \n",
    "                \n",
    "Parallel(n_jobs=8)(delayed(download_file)(local, url) for local, url in files_to_download)\n",
    "    "
   ]
  }
 ],
 "metadata": {
  "kernelspec": {
   "display_name": "Python 3",
   "language": "python",
   "name": "python3"
  },
  "language_info": {
   "codemirror_mode": {
    "name": "ipython",
    "version": 3
   },
   "file_extension": ".py",
   "mimetype": "text/x-python",
   "name": "python",
   "nbconvert_exporter": "python",
   "pygments_lexer": "ipython3",
   "version": "3.6.3"
  }
 },
 "nbformat": 4,
 "nbformat_minor": 2
}
